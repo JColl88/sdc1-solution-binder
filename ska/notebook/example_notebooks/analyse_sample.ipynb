{
 "cells": [
  {
   "cell_type": "code",
   "execution_count": null,
   "metadata": {},
   "outputs": [],
   "source": [
    "import matplotlib.pyplot as plt\n",
    "import numpy as np\n",
    "from astropy.io import fits\n",
    "\n",
    "hdu_list = fits.open(\"data/sample_images/B1_1000h_train_1.5.fits\")\n",
    "hdu_list.info()\n",
    "image_data = hdu_list[0].data[0, 0, :, :]\n",
    "\n",
    "plt.figure(figsize=(10, 10))\n",
    "plt.imshow(image_data, cmap=\"gray\", vmax=0.00001)\n",
    "plt.colorbar()"
   ]
  }
 ],
 "metadata": {
  "kernelspec": {
   "display_name": "Python 3",
   "language": "python",
   "name": "python3"
  },
  "language_info": {
   "codemirror_mode": {
    "name": "ipython",
    "version": 3
   },
   "file_extension": ".py",
   "mimetype": "text/x-python",
   "name": "python",
   "nbconvert_exporter": "python",
   "pygments_lexer": "ipython3",
   "version": "3.7.6"
  }
 },
 "nbformat": 4,
 "nbformat_minor": 4
}